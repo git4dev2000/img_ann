{
 "cells": [
  {
   "cell_type": "code",
   "execution_count": 5,
   "metadata": {},
   "outputs": [],
   "source": [
    "import numpy as np\n",
    "from scipy import io as sio\n",
    "#from keras import models, layers, optimizers, metrics, losses, regularizers\n",
    "import os\n",
    "import math\n",
    "import preprocessing\n",
    "#import postprocessing\n",
    "from matplotlib import pyplot as plt\n",
    "\n",
    "\n",
    "data_folder = '/home/mansour/img_ann/Datasets'\n",
    "data_file= 'Indian_pines_corrected'\n",
    "gt_file = 'Indian_pines_gt'\n",
    "train_fraction = 0.85 # with respect to the entire data. \n",
    "val_fraction = 0.05 #with rescept to training set.\n",
    "rem_classes = [0]\n",
    "patch_size = 1\n",
    "lr = 1e-4\n",
    "units_1 = 2**8\n",
    "drop_rate =0.35\n",
    "batch_size = 2**3\n",
    "#units_2 = 2**8\n",
    "class_weights = dict([(1,33),(2,200),(3,200),(4,181),(5,200),(6,200),(7,20),\n",
    "                      (8,200),(9,14),(10,200),(11,200),(12,200),(13,143),(14,200),\n",
    "                      (15,200),(16,75)])\n",
    "\n",
    "\n",
    "# Loading dataset \n",
    "data_set = sio.loadmat(os.path.join(data_folder, data_file)).get('indian_pines_corrected')\n",
    "gt = sio.loadmat(os.path.join(data_folder, gt_file)).get('indian_pines_gt')\n",
    "\n",
    "# Preprocessing for data split for training and test\n",
    "(train_rows, train_cols), (test_rows, test_cols) = preprocessing.data_split(gt, \n",
    "train_fraction=train_fraction, rem_classes=rem_classes, split_method='same_hist') # may set to 'same_hist'"
   ]
  },
  {
   "cell_type": "code",
   "execution_count": 7,
   "metadata": {},
   "outputs": [
    {
     "name": "stdout",
     "output_type": "stream",
     "text": [
      "(145, 145)\n"
     ]
    },
    {
     "data": {
      "text/plain": [
       "96"
      ]
     },
     "execution_count": 7,
     "metadata": {},
     "output_type": "execute_result"
    }
   ],
   "source": [
    "print(gt.shape)\n",
    "train_cols[0]"
   ]
  }
 ],
 "metadata": {
  "kernelspec": {
   "display_name": "Python 3",
   "language": "python",
   "name": "python3"
  },
  "language_info": {
   "codemirror_mode": {
    "name": "ipython",
    "version": 3
   },
   "file_extension": ".py",
   "mimetype": "text/x-python",
   "name": "python",
   "nbconvert_exporter": "python",
   "pygments_lexer": "ipython3",
   "version": "3.6.5"
  }
 },
 "nbformat": 4,
 "nbformat_minor": 2
}
